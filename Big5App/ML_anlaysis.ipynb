{
 "cells": [
  {
   "cell_type": "code",
   "execution_count": 42,
   "id": "initial_id",
   "metadata": {
    "collapsed": true,
    "ExecuteTime": {
     "end_time": "2024-07-28T19:33:50.271719Z",
     "start_time": "2024-07-28T19:33:50.257401Z"
    }
   },
   "outputs": [],
   "source": [
    "import pandas as pd\n",
    "import numpy as np"
   ]
  },
  {
   "cell_type": "code",
   "outputs": [],
   "source": [
    "# Load the data\n",
    "data = pd.read_csv('/Users/ganesh/Documents/GitHub/djangoProject1/djangoProject1/Datasets/BigFive.csv', sep='\\t')"
   ],
   "metadata": {
    "collapsed": false,
    "ExecuteTime": {
     "end_time": "2024-07-28T19:33:58.121761Z",
     "start_time": "2024-07-28T19:33:50.293263Z"
    }
   },
   "id": "4e3e12c9e34d0392",
   "execution_count": 43
  },
  {
   "cell_type": "code",
   "outputs": [],
   "source": [
    "# remove missing values from dataset data\n",
    "data = data.dropna()"
   ],
   "metadata": {
    "collapsed": false,
    "ExecuteTime": {
     "end_time": "2024-07-28T19:33:58.699099Z",
     "start_time": "2024-07-28T19:33:58.125177Z"
    }
   },
   "id": "f1f60e81e68ed711",
   "execution_count": 44
  },
  {
   "cell_type": "code",
   "outputs": [],
   "source": [
    "#select columns 1 to 51\n",
    "df = data.iloc[:, 0:50]\n"
   ],
   "metadata": {
    "collapsed": false,
    "ExecuteTime": {
     "end_time": "2024-07-28T19:33:58.789514Z",
     "start_time": "2024-07-28T19:33:58.700012Z"
    }
   },
   "id": "94a7c94f80b719df",
   "execution_count": 45
  },
  {
   "cell_type": "code",
   "outputs": [],
   "source": [
    "# positive questions adding to the trait.\n",
    "pos_questions = [ \n",
    "    'EXT1','EXT3','EXT5','EXT7','EXT9',                       # 5\n",
    "    'EST1','EST3','EST5','EST6','EST7','EST8','EST9','EST10', # 8\n",
    "    'AGR2','AGR4','AGR6','AGR8','AGR9','AGR10',               # 6\n",
    "    'CSN1','CSN3','CSN5','CSN7','CSN9','CSN10',               # 6\n",
    "    'OPN1','OPN3','OPN5','OPN7','OPN8','OPN9','OPN10',        # 7\n",
    "]\n",
    "\n",
    "# negative (negating) questions subtracting from the trait.\n",
    "neg_questions = [ \n",
    "    'EXT2','EXT4','EXT6','EXT8','EXT10', # 5\n",
    "    'EST2','EST4',                       # 2\n",
    "    'AGR1','AGR3','AGR5','AGR7',         # 4\n",
    "    'CSN2','CSN4','CSN6','CSN8',         # 4\n",
    "    'OPN2','OPN4','OPN6',                # 3\n",
    "]"
   ],
   "metadata": {
    "collapsed": false,
    "ExecuteTime": {
     "end_time": "2024-07-28T19:33:58.797050Z",
     "start_time": "2024-07-28T19:33:58.791460Z"
    }
   },
   "id": "cb1c7d663d0e8bd",
   "execution_count": 46
  },
  {
   "cell_type": "code",
   "outputs": [],
   "source": [
    "df[neg_questions] = 6 - df[neg_questions]"
   ],
   "metadata": {
    "collapsed": false,
    "ExecuteTime": {
     "end_time": "2024-07-28T19:33:58.889522Z",
     "start_time": "2024-07-28T19:33:58.798316Z"
    }
   },
   "id": "3d9e9887444096c6",
   "execution_count": 47
  },
  {
   "cell_type": "code",
   "outputs": [],
   "source": [
    "# insert a column with the mean of the row from [0, 9]\n",
    "df['Extraversion'] = df.iloc[:, 0:9].mean(axis=1)\n",
    "# insert a column with the sum of the row from [10, 19]\n",
    "df['Neuroticism'] = df.iloc[:, 10:19].mean(axis=1)\n",
    "# insert a column with the sum of the row from [20, 29]\n",
    "df['Agreeableness'] = df.iloc[:, 20:29].mean(axis=1)\n",
    "# insert a column with the sum of the row from [30, 39]\n",
    "df['Conscientiousness'] = df.iloc[:, 30:39].mean(axis=1)\n",
    "# insert a column with the sum of the row from [40, 49]\n",
    "df['Openness'] = df.iloc[:, 40:49].mean(axis=1)"
   ],
   "metadata": {
    "collapsed": false,
    "ExecuteTime": {
     "end_time": "2024-07-28T19:33:59.578430Z",
     "start_time": "2024-07-28T19:33:58.890537Z"
    }
   },
   "id": "29096e905da72ceb",
   "execution_count": 48
  },
  {
   "cell_type": "code",
   "outputs": [
    {
     "data": {
      "text/plain": "             EXT1        EXT2        EXT3        EXT4        EXT5        EXT6  \\\ncount 1012050.000 1012050.000 1012050.000 1012050.000 1012050.000 1012050.000   \nmean        2.648       3.227       3.288       2.859       3.277       3.599   \nstd         1.264       1.324       1.215       1.237       1.278       1.226   \nmin         0.000       1.000       0.000       1.000       0.000       1.000   \n25%         1.000       2.000       2.000       2.000       2.000       3.000   \n50%         3.000       3.000       3.000       3.000       3.000       4.000   \n75%         4.000       4.000       4.000       4.000       4.000       5.000   \nmax         5.000       6.000       5.000       6.000       5.000       6.000   \n\n             EXT7        EXT8        EXT9       EXT10  ...        OPN6  \\\ncount 1012050.000 1012050.000 1012050.000 1012050.000  ... 1012050.000   \nmean        2.772       2.585       2.964       2.443  ...       4.105   \nstd         1.400       1.272       1.346       1.305  ...       1.104   \nmin         0.000       1.000       0.000       1.000  ...       1.000   \n25%         2.000       2.000       2.000       1.000  ...       4.000   \n50%         3.000       2.000       3.000       2.000  ...       4.000   \n75%         4.000       4.000       4.000       3.000  ...       5.000   \nmax         5.000       6.000       5.000       6.000  ...       6.000   \n\n             OPN7        OPN8        OPN9       OPN10  Extraversion  \\\ncount 1012050.000 1012050.000 1012050.000 1012050.000   1012050.000   \nmean        3.977       3.183       4.123       3.959         3.024   \nstd         1.009       1.255       1.041       1.034         0.907   \nmin         0.000       0.000       0.000       0.000         0.444   \n25%         3.000       2.000       4.000       3.000         2.333   \n50%         4.000       3.000       4.000       4.000         3.000   \n75%         5.000       4.000       5.000       5.000         3.667   \nmax         5.000       5.000       5.000       5.000         5.444   \n\n       Neuroticism  Agreeableness  Conscientiousness    Openness  \ncount  1012050.000    1012050.000        1012050.000 1012050.000  \nmean         3.090          3.777              3.328       3.862  \nstd          0.861          0.757              0.767       0.643  \nmin          0.444          0.778              0.556       0.889  \n25%          2.444          3.333              2.778       3.444  \n50%          3.111          3.889              3.333       3.889  \n75%          3.778          4.333              3.889       4.333  \nmax          5.222          5.444              5.222       5.333  \n\n[8 rows x 55 columns]",
      "text/html": "<div>\n<style scoped>\n    .dataframe tbody tr th:only-of-type {\n        vertical-align: middle;\n    }\n\n    .dataframe tbody tr th {\n        vertical-align: top;\n    }\n\n    .dataframe thead th {\n        text-align: right;\n    }\n</style>\n<table border=\"1\" class=\"dataframe\">\n  <thead>\n    <tr style=\"text-align: right;\">\n      <th></th>\n      <th>EXT1</th>\n      <th>EXT2</th>\n      <th>EXT3</th>\n      <th>EXT4</th>\n      <th>EXT5</th>\n      <th>EXT6</th>\n      <th>EXT7</th>\n      <th>EXT8</th>\n      <th>EXT9</th>\n      <th>EXT10</th>\n      <th>...</th>\n      <th>OPN6</th>\n      <th>OPN7</th>\n      <th>OPN8</th>\n      <th>OPN9</th>\n      <th>OPN10</th>\n      <th>Extraversion</th>\n      <th>Neuroticism</th>\n      <th>Agreeableness</th>\n      <th>Conscientiousness</th>\n      <th>Openness</th>\n    </tr>\n  </thead>\n  <tbody>\n    <tr>\n      <th>count</th>\n      <td>1012050.000</td>\n      <td>1012050.000</td>\n      <td>1012050.000</td>\n      <td>1012050.000</td>\n      <td>1012050.000</td>\n      <td>1012050.000</td>\n      <td>1012050.000</td>\n      <td>1012050.000</td>\n      <td>1012050.000</td>\n      <td>1012050.000</td>\n      <td>...</td>\n      <td>1012050.000</td>\n      <td>1012050.000</td>\n      <td>1012050.000</td>\n      <td>1012050.000</td>\n      <td>1012050.000</td>\n      <td>1012050.000</td>\n      <td>1012050.000</td>\n      <td>1012050.000</td>\n      <td>1012050.000</td>\n      <td>1012050.000</td>\n    </tr>\n    <tr>\n      <th>mean</th>\n      <td>2.648</td>\n      <td>3.227</td>\n      <td>3.288</td>\n      <td>2.859</td>\n      <td>3.277</td>\n      <td>3.599</td>\n      <td>2.772</td>\n      <td>2.585</td>\n      <td>2.964</td>\n      <td>2.443</td>\n      <td>...</td>\n      <td>4.105</td>\n      <td>3.977</td>\n      <td>3.183</td>\n      <td>4.123</td>\n      <td>3.959</td>\n      <td>3.024</td>\n      <td>3.090</td>\n      <td>3.777</td>\n      <td>3.328</td>\n      <td>3.862</td>\n    </tr>\n    <tr>\n      <th>std</th>\n      <td>1.264</td>\n      <td>1.324</td>\n      <td>1.215</td>\n      <td>1.237</td>\n      <td>1.278</td>\n      <td>1.226</td>\n      <td>1.400</td>\n      <td>1.272</td>\n      <td>1.346</td>\n      <td>1.305</td>\n      <td>...</td>\n      <td>1.104</td>\n      <td>1.009</td>\n      <td>1.255</td>\n      <td>1.041</td>\n      <td>1.034</td>\n      <td>0.907</td>\n      <td>0.861</td>\n      <td>0.757</td>\n      <td>0.767</td>\n      <td>0.643</td>\n    </tr>\n    <tr>\n      <th>min</th>\n      <td>0.000</td>\n      <td>1.000</td>\n      <td>0.000</td>\n      <td>1.000</td>\n      <td>0.000</td>\n      <td>1.000</td>\n      <td>0.000</td>\n      <td>1.000</td>\n      <td>0.000</td>\n      <td>1.000</td>\n      <td>...</td>\n      <td>1.000</td>\n      <td>0.000</td>\n      <td>0.000</td>\n      <td>0.000</td>\n      <td>0.000</td>\n      <td>0.444</td>\n      <td>0.444</td>\n      <td>0.778</td>\n      <td>0.556</td>\n      <td>0.889</td>\n    </tr>\n    <tr>\n      <th>25%</th>\n      <td>1.000</td>\n      <td>2.000</td>\n      <td>2.000</td>\n      <td>2.000</td>\n      <td>2.000</td>\n      <td>3.000</td>\n      <td>2.000</td>\n      <td>2.000</td>\n      <td>2.000</td>\n      <td>1.000</td>\n      <td>...</td>\n      <td>4.000</td>\n      <td>3.000</td>\n      <td>2.000</td>\n      <td>4.000</td>\n      <td>3.000</td>\n      <td>2.333</td>\n      <td>2.444</td>\n      <td>3.333</td>\n      <td>2.778</td>\n      <td>3.444</td>\n    </tr>\n    <tr>\n      <th>50%</th>\n      <td>3.000</td>\n      <td>3.000</td>\n      <td>3.000</td>\n      <td>3.000</td>\n      <td>3.000</td>\n      <td>4.000</td>\n      <td>3.000</td>\n      <td>2.000</td>\n      <td>3.000</td>\n      <td>2.000</td>\n      <td>...</td>\n      <td>4.000</td>\n      <td>4.000</td>\n      <td>3.000</td>\n      <td>4.000</td>\n      <td>4.000</td>\n      <td>3.000</td>\n      <td>3.111</td>\n      <td>3.889</td>\n      <td>3.333</td>\n      <td>3.889</td>\n    </tr>\n    <tr>\n      <th>75%</th>\n      <td>4.000</td>\n      <td>4.000</td>\n      <td>4.000</td>\n      <td>4.000</td>\n      <td>4.000</td>\n      <td>5.000</td>\n      <td>4.000</td>\n      <td>4.000</td>\n      <td>4.000</td>\n      <td>3.000</td>\n      <td>...</td>\n      <td>5.000</td>\n      <td>5.000</td>\n      <td>4.000</td>\n      <td>5.000</td>\n      <td>5.000</td>\n      <td>3.667</td>\n      <td>3.778</td>\n      <td>4.333</td>\n      <td>3.889</td>\n      <td>4.333</td>\n    </tr>\n    <tr>\n      <th>max</th>\n      <td>5.000</td>\n      <td>6.000</td>\n      <td>5.000</td>\n      <td>6.000</td>\n      <td>5.000</td>\n      <td>6.000</td>\n      <td>5.000</td>\n      <td>6.000</td>\n      <td>5.000</td>\n      <td>6.000</td>\n      <td>...</td>\n      <td>6.000</td>\n      <td>5.000</td>\n      <td>5.000</td>\n      <td>5.000</td>\n      <td>5.000</td>\n      <td>5.444</td>\n      <td>5.222</td>\n      <td>5.444</td>\n      <td>5.222</td>\n      <td>5.333</td>\n    </tr>\n  </tbody>\n</table>\n<p>8 rows × 55 columns</p>\n</div>"
     },
     "execution_count": 49,
     "metadata": {},
     "output_type": "execute_result"
    }
   ],
   "source": [
    "pd.set_option('display.float_format', lambda x: '%.3f' % x)\n",
    "df.describe()"
   ],
   "metadata": {
    "collapsed": false,
    "ExecuteTime": {
     "end_time": "2024-07-28T19:34:02.488309Z",
     "start_time": "2024-07-28T19:33:59.579342Z"
    }
   },
   "id": "a444e46473778241",
   "execution_count": 49
  },
  {
   "cell_type": "code",
   "outputs": [],
   "source": [
    "# change values of 6.0 to 5.0 and 0.0 to 1.0 in df\n",
    "df = df.replace({6: 5, 0: 1})"
   ],
   "metadata": {
    "collapsed": false,
    "ExecuteTime": {
     "end_time": "2024-07-28T19:34:03.208592Z",
     "start_time": "2024-07-28T19:34:02.489337Z"
    }
   },
   "id": "9364bb4d22b15023",
   "execution_count": 50
  },
  {
   "cell_type": "code",
   "outputs": [],
   "source": [
    "# include countries column in df\n",
    "df['Country'] = data['country']"
   ],
   "metadata": {
    "collapsed": false,
    "ExecuteTime": {
     "end_time": "2024-07-28T19:34:03.220406Z",
     "start_time": "2024-07-28T19:34:03.210431Z"
    }
   },
   "id": "2d569170d88b5d8d",
   "execution_count": 51
  },
  {
   "cell_type": "markdown",
   "source": [
    "## Calculate Percentiles"
   ],
   "metadata": {
    "collapsed": false
   },
   "id": "ae6ce5abc5d63486"
  },
  {
   "cell_type": "code",
   "outputs": [],
   "source": [
    "import os\n",
    "import django\n",
    "import sqlite3\n",
    "import pandas as pd\n",
    "from scipy.stats import percentileofscore\n",
    "\n",
    "# Set up Django environment\n",
    "os.environ.setdefault('DJANGO_SETTINGS_MODULE', 'djangoProject.settings')\n",
    "django.setup()\n",
    "\n",
    "# Correct path to the SQLite database\n",
    "db_path = '/Users/ganesh/Documents/GitHub/djangoProject/db.sqlite3'\n",
    "\n",
    "# Check if the database file exists\n",
    "if not os.path.exists(db_path):\n",
    "    raise FileNotFoundError(f\"Database file not found at {db_path}\")\n",
    "\n",
    "# Connect to the SQLite database\n",
    "conn = sqlite3.connect(db_path)\n",
    "user_id = request.session.get('user_id')\n",
    "# Query to get the last column of the table\n",
    "query = f\"SELECT * FROM Big5App_assessmentresponse WHERE user_id = '{user_id}'\"\n",
    "\n",
    "\n",
    "# Load the data into a DataFrame\n",
    "latest_user = pd.read_sql_query(query, conn)\n"
   ],
   "metadata": {
    "collapsed": false,
    "ExecuteTime": {
     "end_time": "2024-07-28T20:17:37.006230Z",
     "start_time": "2024-07-28T20:17:36.973864Z"
    }
   },
   "id": "ff74e9b153f194bf",
   "execution_count": 65
  },
  {
   "cell_type": "code",
   "outputs": [
    {
     "name": "stdout",
     "output_type": "stream",
     "text": [
      "<class 'pandas.core.frame.DataFrame'>\n",
      "RangeIndex: 1 entries, 0 to 0\n",
      "Data columns (total 52 columns):\n",
      " #   Column   Non-Null Count  Dtype \n",
      "---  ------   --------------  ----- \n",
      " 0   user_id  1 non-null      object\n",
      " 1   name     1 non-null      object\n",
      " 2   EXT1     1 non-null      int64 \n",
      " 3   EXT2     1 non-null      int64 \n",
      " 4   EXT3     1 non-null      int64 \n",
      " 5   EXT4     1 non-null      int64 \n",
      " 6   EXT5     1 non-null      int64 \n",
      " 7   EXT6     1 non-null      int64 \n",
      " 8   EXT7     1 non-null      int64 \n",
      " 9   EXT8     1 non-null      int64 \n",
      " 10  EXT9     1 non-null      int64 \n",
      " 11  EXT10    1 non-null      int64 \n",
      " 12  EST1     1 non-null      int64 \n",
      " 13  EST2     1 non-null      int64 \n",
      " 14  EST3     1 non-null      int64 \n",
      " 15  EST4     1 non-null      int64 \n",
      " 16  EST5     1 non-null      int64 \n",
      " 17  EST6     1 non-null      int64 \n",
      " 18  EST7     1 non-null      int64 \n",
      " 19  EST8     1 non-null      int64 \n",
      " 20  EST9     1 non-null      int64 \n",
      " 21  EST10    1 non-null      int64 \n",
      " 22  AGR1     1 non-null      int64 \n",
      " 23  AGR2     1 non-null      int64 \n",
      " 24  AGR3     1 non-null      int64 \n",
      " 25  AGR4     1 non-null      int64 \n",
      " 26  AGR5     1 non-null      int64 \n",
      " 27  AGR6     1 non-null      int64 \n",
      " 28  AGR7     1 non-null      int64 \n",
      " 29  AGR8     1 non-null      int64 \n",
      " 30  AGR9     1 non-null      int64 \n",
      " 31  AGR10    1 non-null      int64 \n",
      " 32  CSN1     1 non-null      int64 \n",
      " 33  CSN2     1 non-null      int64 \n",
      " 34  CSN3     1 non-null      int64 \n",
      " 35  CSN4     1 non-null      int64 \n",
      " 36  CSN5     1 non-null      int64 \n",
      " 37  CSN6     1 non-null      int64 \n",
      " 38  CSN7     1 non-null      int64 \n",
      " 39  CSN8     1 non-null      int64 \n",
      " 40  CSN9     1 non-null      int64 \n",
      " 41  CSN10    1 non-null      int64 \n",
      " 42  OPN1     1 non-null      int64 \n",
      " 43  OPN2     1 non-null      int64 \n",
      " 44  OPN3     1 non-null      int64 \n",
      " 45  OPN4     1 non-null      int64 \n",
      " 46  OPN5     1 non-null      int64 \n",
      " 47  OPN6     1 non-null      int64 \n",
      " 48  OPN7     1 non-null      int64 \n",
      " 49  OPN8     1 non-null      int64 \n",
      " 50  OPN9     1 non-null      int64 \n",
      " 51  OPN10    1 non-null      int64 \n",
      "dtypes: int64(50), object(2)\n",
      "memory usage: 548.0+ bytes\n"
     ]
    }
   ],
   "source": [],
   "metadata": {
    "collapsed": false,
    "ExecuteTime": {
     "end_time": "2024-07-28T20:18:14.215667Z",
     "start_time": "2024-07-28T20:18:14.176922Z"
    }
   },
   "id": "f9dd07e7d7295ce0",
   "execution_count": 67
  },
  {
   "cell_type": "code",
   "outputs": [
    {
     "name": "stdout",
     "output_type": "stream",
     "text": [
      "   EXT1  EXT2  EXT3  EXT4  EXT5  EXT6  EXT7  EXT8  EXT9  EXT10\n",
      "0     3     3     3     3     3     3     3     3     3      3\n",
      "   EST1  EST2  EST3  EST4  EST5  EST6  EST7  EST8  EST9  EST10\n",
      "0     3     3     3     3     3     3     3     3     3      3\n",
      "   AGR1  AGR2  AGR3  AGR4  AGR5  AGR6  AGR7  AGR8  AGR9  AGR10\n",
      "0     3     3     3     3     3     3     3     3     3      3\n",
      "   CSN1  CSN2  CSN3  CSN4  CSN5  CSN6  CSN7  CSN8  CSN9  CSN10\n",
      "0     3     3     3     3     3     3     3     3     3      3\n",
      "   OPN1  OPN2  OPN3  OPN4  OPN5  OPN6  OPN7  OPN8  OPN9  OPN10\n",
      "0     3     3     3     3     3     3     3     3     3      3\n",
      "0    qqqqq\n",
      "Name: name, dtype: object\n",
      "{'Extraversion': 48.97450718838002, 'Neuroticism': 45.30210957956623, 'Agreeableness': 15.449187293117928, 'Conscientiousness': 34.176374685045204, 'Openness': 9.905044217182946}\n"
     ]
    }
   ],
   "source": [
    "# Convert all columns to numeric, coercing errors to NaN\n",
    "#latest_user = latest_user.apply(pd.to_numeric, errors='coerce')\n",
    "print(latest_user.iloc[:, 2:12])\n",
    "print(latest_user.iloc[:, 12:22])\n",
    "print(latest_user.iloc[:, 22:32])\n",
    "print(latest_user.iloc[:, 32:42])\n",
    "print(latest_user.iloc[:, 42:52])\n",
    "print(latest_user['name'])\n",
    "latest_user['Extraversion'] = latest_user.iloc[:, 2:12].mean(axis=1)\n",
    "latest_user['Neuroticism'] = latest_user.iloc[:, 12:22].mean(axis=1)\n",
    "latest_user['Agreeableness'] = latest_user.iloc[:, 22:32].mean(axis=1)\n",
    "latest_user['Conscientiousness'] = latest_user.iloc[:, 32:42].mean(axis=1)\n",
    "latest_user['Openness'] = latest_user.iloc[:, 42:52].mean(axis=1)\n",
    "\n",
    "# Extract the trait scores\n",
    "new_user_traits = latest_user[['Extraversion', 'Neuroticism', 'Agreeableness', 'Conscientiousness', 'Openness']]\n",
    "# Calculate percentiles\n",
    "percentiles = {}\n",
    "for trait in new_user_traits.columns:\n",
    "    trait_value = new_user_traits[trait].iloc[0]  # Get the value for the trait\n",
    "    percentiles[trait] = percentileofscore(df[trait], trait_value)\n",
    "\n",
    "print(percentiles)\n",
    "# Close the connection\n",
    "conn.close()"
   ],
   "metadata": {
    "collapsed": false,
    "ExecuteTime": {
     "end_time": "2024-07-28T20:22:56.885532Z",
     "start_time": "2024-07-28T20:22:56.831198Z"
    }
   },
   "id": "4bb4e97d14f61a89",
   "execution_count": 73
  },
  {
   "cell_type": "code",
   "outputs": [],
   "source": [],
   "metadata": {
    "collapsed": false
   },
   "id": "9f7e38b135ca569d"
  },
  {
   "cell_type": "code",
   "outputs": [],
   "source": [],
   "metadata": {
    "collapsed": false,
    "ExecuteTime": {
     "end_time": "2024-07-28T19:34:03.266507Z",
     "start_time": "2024-07-28T19:34:03.264686Z"
    }
   },
   "id": "dc43899ad27fb820",
   "execution_count": 52
  },
  {
   "cell_type": "markdown",
   "source": [
    "## Top 5 Countries"
   ],
   "metadata": {
    "collapsed": false
   },
   "id": "70fc80a5c053bf08"
  },
  {
   "cell_type": "code",
   "outputs": [
    {
     "name": "stdout",
     "output_type": "stream",
     "text": [
      "Top 5 countries: ['PM', 'BT', 'KH', 'TG', 'NP']\n"
     ]
    }
   ],
   "source": [
    "import pandas as pd\n",
    "import numpy as np\n",
    "from scipy.spatial.distance import euclidean\n",
    "\n",
    "# Assuming `df` is the DataFrame containing the dataset with country and trait scores\n",
    "# and `new_user_traits` is the DataFrame containing the new user's trait scores\n",
    "\n",
    "# Calculate the mean trait scores for each country\n",
    "country_means = df.groupby('Country')[['Extraversion', 'Neuroticism', 'Agreeableness', 'Conscientiousness', 'Openness']].mean()\n",
    "\n",
    "# Calculate the Euclidean distance between the user's trait scores and each country's mean trait scores\n",
    "distances = country_means.apply(lambda row: euclidean(row, new_user_traits.iloc[0]), axis=1)\n",
    "\n",
    "# Rank the countries based on the distances\n",
    "top_countries = distances.nsmallest(5).index.tolist()\n",
    "\n",
    "print(\"Top 5 countries:\", top_countries)\n"
   ],
   "metadata": {
    "collapsed": false,
    "ExecuteTime": {
     "end_time": "2024-07-28T20:23:14.779263Z",
     "start_time": "2024-07-28T20:23:14.680877Z"
    }
   },
   "id": "f37091e1935f1501",
   "execution_count": 74
  },
  {
   "cell_type": "code",
   "outputs": [
    {
     "data": {
      "text/plain": "<Figure size 1000x600 with 1 Axes>",
      "image/png": "[encoded data removed]"
     },
     "metadata": {},
     "output_type": "display_data"
    }
   ],
   "source": [
    "import matplotlib.pyplot as plt\n",
    "\n",
    "# Calculate the mean scores for the new user\n",
    "new_user_mean_scores = new_user_traits.mean()\n",
    "\n",
    "# Calculate the mean scores for all users in the df DataFrame\n",
    "all_users_mean_scores = df[['Extraversion', 'Neuroticism', 'Agreeableness', 'Conscientiousness', 'Openness']].mean()\n",
    "\n",
    "# Plot the mean scores\n",
    "plt.figure(figsize=(10, 6))\n",
    "plt.bar(new_user_mean_scores.index, new_user_mean_scores, alpha=0.6, label='New User')\n",
    "plt.bar(all_users_mean_scores.index, all_users_mean_scores, alpha=0.6, label='All Users', width=0.4)\n",
    "\n",
    "plt.xlabel('Traits')\n",
    "plt.ylabel('Mean Scores')\n",
    "plt.title('Mean Scores of Traits: New User vs All Users')\n",
    "plt.legend()\n",
    "plt.show()"
   ],
   "metadata": {
    "collapsed": false,
    "ExecuteTime": {
     "end_time": "2024-07-28T20:23:16.868803Z",
     "start_time": "2024-07-28T20:23:16.684169Z"
    }
   },
   "id": "cba224747b278d7",
   "execution_count": 75
  },
  {
   "cell_type": "code",
   "outputs": [],
   "source": [],
   "metadata": {
    "collapsed": false,
    "ExecuteTime": {
     "end_time": "2024-07-28T19:34:03.511669Z",
     "start_time": "2024-07-28T19:34:03.509190Z"
    }
   },
   "id": "ef12a71864654359",
   "execution_count": 54
  },
  {
   "cell_type": "code",
   "outputs": [],
   "source": [],
   "metadata": {
    "collapsed": false,
    "ExecuteTime": {
     "end_time": "2024-07-28T19:34:03.515544Z",
     "start_time": "2024-07-28T19:34:03.513612Z"
    }
   },
   "id": "429f080719f07099",
   "execution_count": 54
  },
  {
   "cell_type": "code",
   "outputs": [],
   "source": [],
   "metadata": {
    "collapsed": false,
    "ExecuteTime": {
     "end_time": "2024-07-28T19:34:03.519029Z",
     "start_time": "2024-07-28T19:34:03.517297Z"
    }
   },
   "id": "2abacea569479c71",
   "execution_count": 54
  }
 ],
 "metadata": {
  "kernelspec": {
   "display_name": "Python 3",
   "language": "python",
   "name": "python3"
  },
  "language_info": {
   "codemirror_mode": {
    "name": "ipython",
    "version": 2
   },
   "file_extension": ".py",
   "mimetype": "text/x-python",
   "name": "python",
   "nbconvert_exporter": "python",
   "pygments_lexer": "ipython2",
   "version": "2.7.6"
  }
 },
 "nbformat": 4,
 "nbformat_minor": 5
}
